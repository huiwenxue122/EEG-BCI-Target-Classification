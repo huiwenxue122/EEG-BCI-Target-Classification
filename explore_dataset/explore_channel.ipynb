{
 "cells": [
  {
   "cell_type": "code",
   "execution_count": null,
   "id": "ab727659",
   "metadata": {},
   "outputs": [
    {
     "data": {
      "application/vnd.jupyter.widget-view+json": {
       "model_id": "276df94fa3f547e59aff5df443fc3308",
       "version_major": 2,
       "version_minor": 0
      },
      "text/plain": [
       "VBox(children=(Dropdown(description='文件:', layout=Layout(width='600px'), options=(('rsvp_10Hz_02a.raw.fif', Wi…"
      ]
     },
     "metadata": {},
     "output_type": "display_data"
    },
    {
     "data": {
      "application/vnd.jupyter.widget-view+json": {
       "model_id": "a3d142d1389f4d7fabcd1e745fb5d824",
       "version_major": 2,
       "version_minor": 0
      },
      "text/plain": [
       "Output()"
      ]
     },
     "metadata": {},
     "output_type": "display_data"
    }
   ],
   "source": [
    "# ==== 单Cell：EEG Status 事件浏览（只一张图，松开滑块才刷新） ====\n",
    "%matplotlib inline\n",
    "\n",
    "from pathlib import Path\n",
    "import numpy as np\n",
    "import matplotlib.pyplot as plt\n",
    "import ipywidgets as widgets\n",
    "import mne\n",
    "\n",
    "# -------- 配置 --------\n",
    "DATA_DIR = Path(r\"C:\\Users\\huiwe\\Desktop\\BME Lab\\new_RSVP\\rsvp_mne_files\\rsvp_mne_files\")\n",
    "FILE_PATTERN = \"rsvp_*Hz_*[ab].raw.fif\"\n",
    "STIM_CHANNEL = \"Status\"\n",
    "# ---------------------\n",
    "\n",
    "# 1) 列出文件\n",
    "files = sorted(DATA_DIR.glob(FILE_PATTERN))\n",
    "if not files:\n",
    "    raise SystemExit(f\"No files found in {DATA_DIR} matching {FILE_PATTERN}\")\n",
    "\n",
    "file_dd = widgets.Dropdown(\n",
    "    options=[(p.name, p) for p in files],\n",
    "    description=\"文件:\",\n",
    "    layout=widgets.Layout(width=\"600px\"),\n",
    ")\n",
    "\n",
    "# 关键：continuous_update=False → 只在“松开”时触发\n",
    "win = widgets.FloatRangeSlider(\n",
    "    value=[0.0, 30.0], min=0.0, max=30.0, step=0.5,\n",
    "    description=\"时间窗口 (s):\", readout=True, continuous_update=False,\n",
    "    layout=widgets.Layout(width=\"600px\"),\n",
    ")\n",
    "\n",
    "show_burst = widgets.Checkbox(value=True, description=\"显示 Burst 开始/结束\")\n",
    "show_non   = widgets.Checkbox(value=True, description=\"显示 Non-target (1002)\")\n",
    "show_tar   = widgets.Checkbox(value=True, description=\"显示 Target (1..640)\")\n",
    "\n",
    "# 2) 读取并缓存事件（避免重复IO）\n",
    "_cache = {}  # fpath -> (times, codes, sfreq, duration)\n",
    "def load_events(fpath: Path):\n",
    "    if fpath not in _cache:\n",
    "        raw = mne.io.read_raw_fif(fpath, preload=False, verbose=False)\n",
    "        sfreq = float(raw.info[\"sfreq\"])\n",
    "        events = mne.find_events(raw, stim_channel=STIM_CHANNEL,\n",
    "                                 output=\"onset\", shortest_event=1, verbose=False)\n",
    "        times = events[:, 0] / sfreq\n",
    "        codes = events[:, 2].astype(int)\n",
    "        duration = float(raw.times[-1])\n",
    "        _cache[fpath] = (times, codes, sfreq, duration)\n",
    "    return _cache[fpath]\n",
    "\n",
    "# 3) 单一输出容器：每次刷新前先 clear → 永远只有一张图\n",
    "out = widgets.Output()\n",
    "\n",
    "def redraw(*_):\n",
    "    with out:\n",
    "        out.clear_output(wait=True)           # 覆盖旧图，不累加\n",
    "        fpath = file_dd.value\n",
    "        (times, codes, sfreq, duration) = load_events(fpath)\n",
    "\n",
    "        tmin, tmax = map(float, win.value)\n",
    "        tmin = max(0.0, tmin); tmax = min(duration, tmax)\n",
    "        if tmax <= tmin: tmax = min(duration, tmin + 1.0)\n",
    "        span = tmax - tmin                     # 窗口时长（会显示在标题里）\n",
    "\n",
    "        inwin = (times >= tmin) & (times <= tmax)\n",
    "        burst_start = (codes == 1000) & inwin\n",
    "        burst_end   = (codes == 1001) & inwin\n",
    "        non_target  = (codes == 1002) & inwin\n",
    "        target      = (codes <  1000) & inwin  # 1..640\n",
    "\n",
    "        fig, ax = plt.subplots(figsize=(10, 4), dpi=110)\n",
    "        if show_burst.value:\n",
    "            ax.scatter(times[burst_start], codes[burst_start], marker=\"|\", s=220, color=\"red\",     label=\"Burst start (1000)\")\n",
    "            ax.scatter(times[burst_end],   codes[burst_end],   marker=\"|\", s=220, color=\"darkred\", label=\"Burst end (1001)\")\n",
    "        if show_non.value:\n",
    "            ax.scatter(times[non_target],  codes[non_target],  marker=\"|\", s=140, color=\"gray\", alpha=0.6, label=\"Non-target (1002)\")\n",
    "        if show_tar.value:\n",
    "            ax.scatter(times[target],      codes[target],      marker=\"|\", s=160, color=\"blue\",          label=\"Target (1..640)\")\n",
    "\n",
    "        ax.set_xlim(tmin, tmax)\n",
    "        ax.set_xlabel(\"Time (s)\")\n",
    "        ax.set_ylabel(\"Event code\")\n",
    "        # 这里把“总时长”和“窗口时长/范围”都放进标题，随着滑块变化\n",
    "        ax.set_title(f\"{fpath.name} — sfreq={sfreq:.1f}Hz, full={duration:.1f}s | \"\n",
    "                     f\"window={tmin:.1f}-{tmax:.1f}s (span={span:.1f}s)\")\n",
    "        ax.grid(True, alpha=0.3)\n",
    "        ax.legend(loc=\"upper right\")\n",
    "        plt.tight_layout()\n",
    "        plt.show()\n",
    "\n",
    "# 4) 切换文件时更新滑块范围并重画\n",
    "def on_file_change(change):\n",
    "    if change[\"name\"] == \"value\" and change[\"new\"] is not None:\n",
    "        _, _, _, dur = load_events(change[\"new\"])\n",
    "        win.min = 0.0\n",
    "        win.max = round(dur, 2)\n",
    "        win.value = (0.0, min(30.0, dur))     # 初始窗口\n",
    "        redraw()\n",
    "\n",
    "file_dd.observe(on_file_change, names=\"value\")\n",
    "win.observe(redraw, names=\"value\")            # 松手才触发，因为 continuous_update=False\n",
    "show_burst.observe(redraw, names=\"value\")\n",
    "show_non.observe(redraw, names=\"value\")\n",
    "show_tar.observe(redraw, names=\"value\")\n",
    "\n",
    "# 5) 布局与首次绘制（只显示一次 UI + 一个 out）\n",
    "ui = widgets.VBox([file_dd, win, widgets.HBox([show_burst, show_non, show_tar])])\n",
    "display(ui, out)\n",
    "\n",
    "# 初始化\n",
    "on_file_change({\"name\":\"value\",\"new\":file_dd.value})\n"
   ]
  }
 ],
 "metadata": {
  "kernelspec": {
   "display_name": "eeg",
   "language": "python",
   "name": "python3"
  },
  "language_info": {
   "codemirror_mode": {
    "name": "ipython",
    "version": 3
   },
   "file_extension": ".py",
   "mimetype": "text/x-python",
   "name": "python",
   "nbconvert_exporter": "python",
   "pygments_lexer": "ipython3",
   "version": "3.13.5"
  }
 },
 "nbformat": 4,
 "nbformat_minor": 5
}
